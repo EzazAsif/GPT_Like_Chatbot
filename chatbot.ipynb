{
 "cells": [
  {
   "cell_type": "markdown",
   "metadata": {},
   "source": [
    "### Importing Libraries"
   ]
  },
  {
   "cell_type": "code",
   "execution_count": 1,
   "metadata": {},
   "outputs": [
    {
     "name": "stderr",
     "output_type": "stream",
     "text": [
      "C:\\Users\\Ezaz\\AppData\\Local\\Packages\\PythonSoftwareFoundation.Python.3.12_qbz5n2kfra8p0\\LocalCache\\local-packages\\Python312\\site-packages\\tqdm\\auto.py:21: TqdmWarning: IProgress not found. Please update jupyter and ipywidgets. See https://ipywidgets.readthedocs.io/en/stable/user_install.html\n",
      "  from .autonotebook import tqdm as notebook_tqdm\n"
     ]
    }
   ],
   "source": [
    "import torch\n",
    "import torch.nn as nn\n",
    "import torch.optim as optim\n",
    "from torch.utils.data import DataLoader, Dataset\n",
    "from transformers import BertTokenizer, BertModel\n"
   ]
  },
  {
   "cell_type": "code",
   "execution_count": 2,
   "metadata": {},
   "outputs": [],
   "source": [
    "device = torch.device(\"cuda\" if torch.cuda.is_available() else \"cpu\")"
   ]
  },
  {
   "cell_type": "markdown",
   "metadata": {},
   "source": [
    "### Loading Dataser"
   ]
  },
  {
   "cell_type": "code",
   "execution_count": 3,
   "metadata": {},
   "outputs": [],
   "source": [
    "\n",
    "def load_data(file_path):\n",
    "    pairs = []\n",
    "    with open(file_path, \"r\") as f:\n",
    "        for line in f:\n",
    "            if '\\t' in line:\n",
    "                input_text, target_text = line.strip().split(\"\\t\")\n",
    "                pairs.append((input_text, target_text))\n",
    "    return pairs\n"
   ]
  },
  {
   "cell_type": "code",
   "execution_count": 4,
   "metadata": {},
   "outputs": [],
   "source": [
    "# Prepare Dataset and DataLoader\n",
    "data_file = \"dialogs.txt\"\n",
    "pairs = load_data(data_file)\n"
   ]
  },
  {
   "cell_type": "code",
   "execution_count": 5,
   "metadata": {},
   "outputs": [],
   "source": [
    "# Step 1: Dataset Preparation\n",
    "class DialogDataset(Dataset):\n",
    "    def __init__(self, pairs, tokenizer, max_length):\n",
    "        self.pairs = pairs\n",
    "        self.tokenizer = tokenizer\n",
    "        self.max_length = max_length\n",
    "\n",
    "    def __len__(self):\n",
    "        return len(self.pairs)\n",
    "\n",
    "    def __getitem__(self, idx):\n",
    "        input_text, target_text = self.pairs[idx]\n",
    "        input_enc = self.tokenizer(\n",
    "            input_text,\n",
    "            truncation=True,\n",
    "            padding=\"max_length\",\n",
    "            max_length=self.max_length,\n",
    "            return_tensors=\"pt\",\n",
    "        )\n",
    "        target_enc = self.tokenizer(\n",
    "            target_text,\n",
    "            truncation=True,\n",
    "            padding=\"max_length\",\n",
    "            max_length=self.max_length,\n",
    "            return_tensors=\"pt\",\n",
    "        )\n",
    "        return input_enc[\"input_ids\"].squeeze(), input_enc[\"attention_mask\"].squeeze(), target_enc[\"input_ids\"].squeeze()"
   ]
  },
  {
   "cell_type": "code",
   "execution_count": 6,
   "metadata": {},
   "outputs": [],
   "source": [
    "train_pairs = pairs\n",
    "val_pairs = pairs[int(0.8 * len(pairs)):] \n",
    "\n",
    "max_length = 50\n",
    "tokenizer = BertTokenizer.from_pretrained(\"bert-base-uncased\")\n",
    "\n",
    "train_dataset = DialogDataset(train_pairs, tokenizer, max_length)\n",
    "val_dataset = DialogDataset(val_pairs, tokenizer, max_length)\n",
    "\n",
    "train_loader = DataLoader(train_dataset, batch_size=128, shuffle=True)\n",
    "val_loader = DataLoader(val_dataset, batch_size=128)\n",
    "\n"
   ]
  },
  {
   "cell_type": "code",
   "execution_count": 9,
   "metadata": {},
   "outputs": [],
   "source": [
    "class ChatTransformerWithCNN(nn.Module):\n",
    "    def __init__(self, pretrained_model_name=\"bert-base-uncased\", num_heads=8, num_encoder_layers=4, num_decoder_layers=4):\n",
    "        super(ChatTransformerWithCNN, self).__init__()\n",
    "\n",
    "        # Pretrained BERT model for encoding\n",
    "        self.encoder = BertModel.from_pretrained(pretrained_model_name)\n",
    "\n",
    "        # CNN Layers\n",
    "        self.conv1 = nn.Conv1d(in_channels=768, out_channels=512, kernel_size=3, padding=1)\n",
    "        self.conv2 = nn.Conv1d(in_channels=512, out_channels=256, kernel_size=3, padding=1)\n",
    "        self.conv3 = nn.Conv1d(in_channels=256, out_channels=768, kernel_size=3, padding=1)\n",
    "\n",
    "        # Multihead Attention Layer\n",
    "        self.attention = nn.MultiheadAttention(embed_dim=768, num_heads=num_heads, batch_first=True)\n",
    "\n",
    "        # Decoder (use TransformerDecoderLayer to create TransformerDecoder)\n",
    "        decoder_layers = nn.TransformerDecoderLayer(d_model=768, nhead=num_heads)\n",
    "        self.decoder = nn.TransformerDecoder(decoder_layers, num_layers=num_decoder_layers)\n",
    "\n",
    "        # Output Layer (for generating logits)\n",
    "        self.fc_out = nn.Linear(768, self.encoder.config.vocab_size)\n",
    "\n",
    "        # Tokenizer to get vocab size for the output layer\n",
    "        self.tokenizer = BertTokenizer.from_pretrained(pretrained_model_name)\n",
    "\n",
    "    def forward(self, input_ids, attention_mask, target_ids=None):\n",
    "        # Get encoder outputs from BERT model\n",
    "        encoder_outputs = self.encoder(input_ids, attention_mask=attention_mask)\n",
    "        encoder_hidden_states = encoder_outputs['last_hidden_state']\n",
    "\n",
    "        # Apply CNN layers to encoder hidden states\n",
    "        cnn_out = self.conv1(encoder_hidden_states.permute(0, 2, 1))\n",
    "        cnn_out = nn.ReLU()(cnn_out)\n",
    "        cnn_out = self.conv2(cnn_out)\n",
    "        cnn_out = nn.ReLU()(cnn_out)\n",
    "        cnn_out = self.conv3(cnn_out).permute(0, 2, 1)\n",
    "\n",
    "        # Create the padding mask for attention\n",
    "        attn_mask = (attention_mask == 0).unsqueeze(1).unsqueeze(2)  # Shape [batch_size, 1, 1, seq_len]\n",
    "\n",
    "        # Apply Multihead Attention on CNN output\n",
    "        attn_output, _ = self.attention(cnn_out, cnn_out, cnn_out, key_padding_mask=attn_mask.squeeze())\n",
    "\n",
    "        # Create decoder input (if target_ids is provided)\n",
    "        if target_ids is not None:\n",
    "            target_embeddings = self.encoder.embeddings(target_ids)  # Embed the target_ids if available\n",
    "            decoder_output = self.decoder(tgt=target_embeddings, memory=attn_output)\n",
    "        else:\n",
    "            # During inference, use only the attention output\n",
    "            decoder_output = self.decoder(tgt=attn_output, memory=attn_output)\n",
    "\n",
    "        # Final output (logits for token prediction)\n",
    "        logits = self.fc_out(decoder_output)\n",
    "\n",
    "        return logits\n"
   ]
  },
  {
   "cell_type": "code",
   "execution_count": 10,
   "metadata": {},
   "outputs": [
    {
     "data": {
      "text/plain": [
       "ChatTransformerWithCNN(\n",
       "  (encoder): BertModel(\n",
       "    (embeddings): BertEmbeddings(\n",
       "      (word_embeddings): Embedding(30522, 768, padding_idx=0)\n",
       "      (position_embeddings): Embedding(512, 768)\n",
       "      (token_type_embeddings): Embedding(2, 768)\n",
       "      (LayerNorm): LayerNorm((768,), eps=1e-12, elementwise_affine=True)\n",
       "      (dropout): Dropout(p=0.1, inplace=False)\n",
       "    )\n",
       "    (encoder): BertEncoder(\n",
       "      (layer): ModuleList(\n",
       "        (0-11): 12 x BertLayer(\n",
       "          (attention): BertAttention(\n",
       "            (self): BertSdpaSelfAttention(\n",
       "              (query): Linear(in_features=768, out_features=768, bias=True)\n",
       "              (key): Linear(in_features=768, out_features=768, bias=True)\n",
       "              (value): Linear(in_features=768, out_features=768, bias=True)\n",
       "              (dropout): Dropout(p=0.1, inplace=False)\n",
       "            )\n",
       "            (output): BertSelfOutput(\n",
       "              (dense): Linear(in_features=768, out_features=768, bias=True)\n",
       "              (LayerNorm): LayerNorm((768,), eps=1e-12, elementwise_affine=True)\n",
       "              (dropout): Dropout(p=0.1, inplace=False)\n",
       "            )\n",
       "          )\n",
       "          (intermediate): BertIntermediate(\n",
       "            (dense): Linear(in_features=768, out_features=3072, bias=True)\n",
       "            (intermediate_act_fn): GELUActivation()\n",
       "          )\n",
       "          (output): BertOutput(\n",
       "            (dense): Linear(in_features=3072, out_features=768, bias=True)\n",
       "            (LayerNorm): LayerNorm((768,), eps=1e-12, elementwise_affine=True)\n",
       "            (dropout): Dropout(p=0.1, inplace=False)\n",
       "          )\n",
       "        )\n",
       "      )\n",
       "    )\n",
       "    (pooler): BertPooler(\n",
       "      (dense): Linear(in_features=768, out_features=768, bias=True)\n",
       "      (activation): Tanh()\n",
       "    )\n",
       "  )\n",
       "  (conv1): Conv1d(768, 512, kernel_size=(3,), stride=(1,), padding=(1,))\n",
       "  (conv2): Conv1d(512, 256, kernel_size=(3,), stride=(1,), padding=(1,))\n",
       "  (conv3): Conv1d(256, 768, kernel_size=(3,), stride=(1,), padding=(1,))\n",
       "  (attention): MultiheadAttention(\n",
       "    (out_proj): NonDynamicallyQuantizableLinear(in_features=768, out_features=768, bias=True)\n",
       "  )\n",
       "  (decoder): TransformerDecoder(\n",
       "    (layers): ModuleList(\n",
       "      (0-3): 4 x TransformerDecoderLayer(\n",
       "        (self_attn): MultiheadAttention(\n",
       "          (out_proj): NonDynamicallyQuantizableLinear(in_features=768, out_features=768, bias=True)\n",
       "        )\n",
       "        (multihead_attn): MultiheadAttention(\n",
       "          (out_proj): NonDynamicallyQuantizableLinear(in_features=768, out_features=768, bias=True)\n",
       "        )\n",
       "        (linear1): Linear(in_features=768, out_features=2048, bias=True)\n",
       "        (dropout): Dropout(p=0.1, inplace=False)\n",
       "        (linear2): Linear(in_features=2048, out_features=768, bias=True)\n",
       "        (norm1): LayerNorm((768,), eps=1e-05, elementwise_affine=True)\n",
       "        (norm2): LayerNorm((768,), eps=1e-05, elementwise_affine=True)\n",
       "        (norm3): LayerNorm((768,), eps=1e-05, elementwise_affine=True)\n",
       "        (dropout1): Dropout(p=0.1, inplace=False)\n",
       "        (dropout2): Dropout(p=0.1, inplace=False)\n",
       "        (dropout3): Dropout(p=0.1, inplace=False)\n",
       "      )\n",
       "    )\n",
       "  )\n",
       "  (fc_out): Linear(in_features=768, out_features=30522, bias=True)\n",
       ")"
      ]
     },
     "execution_count": 10,
     "metadata": {},
     "output_type": "execute_result"
    }
   ],
   "source": [
    "model = ChatTransformerWithCNN()\n",
    "model.to(device)"
   ]
  },
  {
   "cell_type": "code",
   "execution_count": 11,
   "metadata": {},
   "outputs": [],
   "source": [
    "# Step 3: Training and Validation\n",
    "criterion = nn.CrossEntropyLoss()\n",
    "optimizer = optim.Adam(model.parameters(),lr=0.0001)"
   ]
  },
  {
   "cell_type": "code",
   "execution_count": 12,
   "metadata": {},
   "outputs": [],
   "source": [
    "def load_model(model, optimizer, path=\"model_checkpoint.pth\"):\n",
    "    checkpoint = torch.load(path)\n",
    "    model.load_state_dict(checkpoint['model_state_dict'])\n",
    "    optimizer.load_state_dict(checkpoint['optimizer_state_dict'])\n",
    "    start_epoch = checkpoint['epoch']\n",
    "    return model, optimizer, start_epoch"
   ]
  },
  {
   "cell_type": "code",
   "execution_count": 13,
   "metadata": {},
   "outputs": [
    {
     "ename": "RuntimeError",
     "evalue": "Error(s) in loading state_dict for ChatTransformerWithCNN:\n\tMissing key(s) in state_dict: \"decoder.layers.0.self_attn.in_proj_weight\", \"decoder.layers.0.self_attn.in_proj_bias\", \"decoder.layers.0.self_attn.out_proj.weight\", \"decoder.layers.0.self_attn.out_proj.bias\", \"decoder.layers.0.multihead_attn.in_proj_weight\", \"decoder.layers.0.multihead_attn.in_proj_bias\", \"decoder.layers.0.multihead_attn.out_proj.weight\", \"decoder.layers.0.multihead_attn.out_proj.bias\", \"decoder.layers.0.linear1.weight\", \"decoder.layers.0.linear1.bias\", \"decoder.layers.0.linear2.weight\", \"decoder.layers.0.linear2.bias\", \"decoder.layers.0.norm1.weight\", \"decoder.layers.0.norm1.bias\", \"decoder.layers.0.norm2.weight\", \"decoder.layers.0.norm2.bias\", \"decoder.layers.0.norm3.weight\", \"decoder.layers.0.norm3.bias\", \"decoder.layers.1.self_attn.in_proj_weight\", \"decoder.layers.1.self_attn.in_proj_bias\", \"decoder.layers.1.self_attn.out_proj.weight\", \"decoder.layers.1.self_attn.out_proj.bias\", \"decoder.layers.1.multihead_attn.in_proj_weight\", \"decoder.layers.1.multihead_attn.in_proj_bias\", \"decoder.layers.1.multihead_attn.out_proj.weight\", \"decoder.layers.1.multihead_attn.out_proj.bias\", \"decoder.layers.1.linear1.weight\", \"decoder.layers.1.linear1.bias\", \"decoder.layers.1.linear2.weight\", \"decoder.layers.1.linear2.bias\", \"decoder.layers.1.norm1.weight\", \"decoder.layers.1.norm1.bias\", \"decoder.layers.1.norm2.weight\", \"decoder.layers.1.norm2.bias\", \"decoder.layers.1.norm3.weight\", \"decoder.layers.1.norm3.bias\", \"decoder.layers.2.self_attn.in_proj_weight\", \"decoder.layers.2.self_attn.in_proj_bias\", \"decoder.layers.2.self_attn.out_proj.weight\", \"decoder.layers.2.self_attn.out_proj.bias\", \"decoder.layers.2.multihead_attn.in_proj_weight\", \"decoder.layers.2.multihead_attn.in_proj_bias\", \"decoder.layers.2.multihead_attn.out_proj.weight\", \"decoder.layers.2.multihead_attn.out_proj.bias\", \"decoder.layers.2.linear1.weight\", \"decoder.layers.2.linear1.bias\", \"decoder.layers.2.linear2.weight\", \"decoder.layers.2.linear2.bias\", \"decoder.layers.2.norm1.weight\", \"decoder.layers.2.norm1.bias\", \"decoder.layers.2.norm2.weight\", \"decoder.layers.2.norm2.bias\", \"decoder.layers.2.norm3.weight\", \"decoder.layers.2.norm3.bias\", \"decoder.layers.3.self_attn.in_proj_weight\", \"decoder.layers.3.self_attn.in_proj_bias\", \"decoder.layers.3.self_attn.out_proj.weight\", \"decoder.layers.3.self_attn.out_proj.bias\", \"decoder.layers.3.multihead_attn.in_proj_weight\", \"decoder.layers.3.multihead_attn.in_proj_bias\", \"decoder.layers.3.multihead_attn.out_proj.weight\", \"decoder.layers.3.multihead_attn.out_proj.bias\", \"decoder.layers.3.linear1.weight\", \"decoder.layers.3.linear1.bias\", \"decoder.layers.3.linear2.weight\", \"decoder.layers.3.linear2.bias\", \"decoder.layers.3.norm1.weight\", \"decoder.layers.3.norm1.bias\", \"decoder.layers.3.norm2.weight\", \"decoder.layers.3.norm2.bias\", \"decoder.layers.3.norm3.weight\", \"decoder.layers.3.norm3.bias\". \n\tUnexpected key(s) in state_dict: \"decoder.encoder.layers.0.self_attn.in_proj_weight\", \"decoder.encoder.layers.0.self_attn.in_proj_bias\", \"decoder.encoder.layers.0.self_attn.out_proj.weight\", \"decoder.encoder.layers.0.self_attn.out_proj.bias\", \"decoder.encoder.layers.0.linear1.weight\", \"decoder.encoder.layers.0.linear1.bias\", \"decoder.encoder.layers.0.linear2.weight\", \"decoder.encoder.layers.0.linear2.bias\", \"decoder.encoder.layers.0.norm1.weight\", \"decoder.encoder.layers.0.norm1.bias\", \"decoder.encoder.layers.0.norm2.weight\", \"decoder.encoder.layers.0.norm2.bias\", \"decoder.encoder.layers.1.self_attn.in_proj_weight\", \"decoder.encoder.layers.1.self_attn.in_proj_bias\", \"decoder.encoder.layers.1.self_attn.out_proj.weight\", \"decoder.encoder.layers.1.self_attn.out_proj.bias\", \"decoder.encoder.layers.1.linear1.weight\", \"decoder.encoder.layers.1.linear1.bias\", \"decoder.encoder.layers.1.linear2.weight\", \"decoder.encoder.layers.1.linear2.bias\", \"decoder.encoder.layers.1.norm1.weight\", \"decoder.encoder.layers.1.norm1.bias\", \"decoder.encoder.layers.1.norm2.weight\", \"decoder.encoder.layers.1.norm2.bias\", \"decoder.encoder.layers.2.self_attn.in_proj_weight\", \"decoder.encoder.layers.2.self_attn.in_proj_bias\", \"decoder.encoder.layers.2.self_attn.out_proj.weight\", \"decoder.encoder.layers.2.self_attn.out_proj.bias\", \"decoder.encoder.layers.2.linear1.weight\", \"decoder.encoder.layers.2.linear1.bias\", \"decoder.encoder.layers.2.linear2.weight\", \"decoder.encoder.layers.2.linear2.bias\", \"decoder.encoder.layers.2.norm1.weight\", \"decoder.encoder.layers.2.norm1.bias\", \"decoder.encoder.layers.2.norm2.weight\", \"decoder.encoder.layers.2.norm2.bias\", \"decoder.encoder.layers.3.self_attn.in_proj_weight\", \"decoder.encoder.layers.3.self_attn.in_proj_bias\", \"decoder.encoder.layers.3.self_attn.out_proj.weight\", \"decoder.encoder.layers.3.self_attn.out_proj.bias\", \"decoder.encoder.layers.3.linear1.weight\", \"decoder.encoder.layers.3.linear1.bias\", \"decoder.encoder.layers.3.linear2.weight\", \"decoder.encoder.layers.3.linear2.bias\", \"decoder.encoder.layers.3.norm1.weight\", \"decoder.encoder.layers.3.norm1.bias\", \"decoder.encoder.layers.3.norm2.weight\", \"decoder.encoder.layers.3.norm2.bias\", \"decoder.encoder.norm.weight\", \"decoder.encoder.norm.bias\", \"decoder.decoder.layers.0.self_attn.in_proj_weight\", \"decoder.decoder.layers.0.self_attn.in_proj_bias\", \"decoder.decoder.layers.0.self_attn.out_proj.weight\", \"decoder.decoder.layers.0.self_attn.out_proj.bias\", \"decoder.decoder.layers.0.multihead_attn.in_proj_weight\", \"decoder.decoder.layers.0.multihead_attn.in_proj_bias\", \"decoder.decoder.layers.0.multihead_attn.out_proj.weight\", \"decoder.decoder.layers.0.multihead_attn.out_proj.bias\", \"decoder.decoder.layers.0.linear1.weight\", \"decoder.decoder.layers.0.linear1.bias\", \"decoder.decoder.layers.0.linear2.weight\", \"decoder.decoder.layers.0.linear2.bias\", \"decoder.decoder.layers.0.norm1.weight\", \"decoder.decoder.layers.0.norm1.bias\", \"decoder.decoder.layers.0.norm2.weight\", \"decoder.decoder.layers.0.norm2.bias\", \"decoder.decoder.layers.0.norm3.weight\", \"decoder.decoder.layers.0.norm3.bias\", \"decoder.decoder.layers.1.self_attn.in_proj_weight\", \"decoder.decoder.layers.1.self_attn.in_proj_bias\", \"decoder.decoder.layers.1.self_attn.out_proj.weight\", \"decoder.decoder.layers.1.self_attn.out_proj.bias\", \"decoder.decoder.layers.1.multihead_attn.in_proj_weight\", \"decoder.decoder.layers.1.multihead_attn.in_proj_bias\", \"decoder.decoder.layers.1.multihead_attn.out_proj.weight\", \"decoder.decoder.layers.1.multihead_attn.out_proj.bias\", \"decoder.decoder.layers.1.linear1.weight\", \"decoder.decoder.layers.1.linear1.bias\", \"decoder.decoder.layers.1.linear2.weight\", \"decoder.decoder.layers.1.linear2.bias\", \"decoder.decoder.layers.1.norm1.weight\", \"decoder.decoder.layers.1.norm1.bias\", \"decoder.decoder.layers.1.norm2.weight\", \"decoder.decoder.layers.1.norm2.bias\", \"decoder.decoder.layers.1.norm3.weight\", \"decoder.decoder.layers.1.norm3.bias\", \"decoder.decoder.layers.2.self_attn.in_proj_weight\", \"decoder.decoder.layers.2.self_attn.in_proj_bias\", \"decoder.decoder.layers.2.self_attn.out_proj.weight\", \"decoder.decoder.layers.2.self_attn.out_proj.bias\", \"decoder.decoder.layers.2.multihead_attn.in_proj_weight\", \"decoder.decoder.layers.2.multihead_attn.in_proj_bias\", \"decoder.decoder.layers.2.multihead_attn.out_proj.weight\", \"decoder.decoder.layers.2.multihead_attn.out_proj.bias\", \"decoder.decoder.layers.2.linear1.weight\", \"decoder.decoder.layers.2.linear1.bias\", \"decoder.decoder.layers.2.linear2.weight\", \"decoder.decoder.layers.2.linear2.bias\", \"decoder.decoder.layers.2.norm1.weight\", \"decoder.decoder.layers.2.norm1.bias\", \"decoder.decoder.layers.2.norm2.weight\", \"decoder.decoder.layers.2.norm2.bias\", \"decoder.decoder.layers.2.norm3.weight\", \"decoder.decoder.layers.2.norm3.bias\", \"decoder.decoder.layers.3.self_attn.in_proj_weight\", \"decoder.decoder.layers.3.self_attn.in_proj_bias\", \"decoder.decoder.layers.3.self_attn.out_proj.weight\", \"decoder.decoder.layers.3.self_attn.out_proj.bias\", \"decoder.decoder.layers.3.multihead_attn.in_proj_weight\", \"decoder.decoder.layers.3.multihead_attn.in_proj_bias\", \"decoder.decoder.layers.3.multihead_attn.out_proj.weight\", \"decoder.decoder.layers.3.multihead_attn.out_proj.bias\", \"decoder.decoder.layers.3.linear1.weight\", \"decoder.decoder.layers.3.linear1.bias\", \"decoder.decoder.layers.3.linear2.weight\", \"decoder.decoder.layers.3.linear2.bias\", \"decoder.decoder.layers.3.norm1.weight\", \"decoder.decoder.layers.3.norm1.bias\", \"decoder.decoder.layers.3.norm2.weight\", \"decoder.decoder.layers.3.norm2.bias\", \"decoder.decoder.layers.3.norm3.weight\", \"decoder.decoder.layers.3.norm3.bias\", \"decoder.decoder.norm.weight\", \"decoder.decoder.norm.bias\". ",
     "output_type": "error",
     "traceback": [
      "\u001b[1;31m---------------------------------------------------------------------------\u001b[0m",
      "\u001b[1;31mRuntimeError\u001b[0m                              Traceback (most recent call last)",
      "Cell \u001b[1;32mIn[13], line 1\u001b[0m\n\u001b[1;32m----> 1\u001b[0m \u001b[43mload_model\u001b[49m\u001b[43m(\u001b[49m\u001b[43mmodel\u001b[49m\u001b[43m,\u001b[49m\u001b[43m \u001b[49m\u001b[43moptimizer\u001b[49m\u001b[43m,\u001b[49m\u001b[43m \u001b[49m\u001b[43mpath\u001b[49m\u001b[38;5;241;43m=\u001b[39;49m\u001b[38;5;124;43m\"\u001b[39;49m\u001b[38;5;124;43mmodel_checkpoint.pth\u001b[39;49m\u001b[38;5;124;43m\"\u001b[39;49m\u001b[43m)\u001b[49m\n",
      "Cell \u001b[1;32mIn[12], line 3\u001b[0m, in \u001b[0;36mload_model\u001b[1;34m(model, optimizer, path)\u001b[0m\n\u001b[0;32m      1\u001b[0m \u001b[38;5;28;01mdef\u001b[39;00m \u001b[38;5;21mload_model\u001b[39m(model, optimizer, path\u001b[38;5;241m=\u001b[39m\u001b[38;5;124m\"\u001b[39m\u001b[38;5;124mmodel_checkpoint.pth\u001b[39m\u001b[38;5;124m\"\u001b[39m):\n\u001b[0;32m      2\u001b[0m     checkpoint \u001b[38;5;241m=\u001b[39m torch\u001b[38;5;241m.\u001b[39mload(path)\n\u001b[1;32m----> 3\u001b[0m     \u001b[43mmodel\u001b[49m\u001b[38;5;241;43m.\u001b[39;49m\u001b[43mload_state_dict\u001b[49m\u001b[43m(\u001b[49m\u001b[43mcheckpoint\u001b[49m\u001b[43m[\u001b[49m\u001b[38;5;124;43m'\u001b[39;49m\u001b[38;5;124;43mmodel_state_dict\u001b[39;49m\u001b[38;5;124;43m'\u001b[39;49m\u001b[43m]\u001b[49m\u001b[43m)\u001b[49m\n\u001b[0;32m      4\u001b[0m     optimizer\u001b[38;5;241m.\u001b[39mload_state_dict(checkpoint[\u001b[38;5;124m'\u001b[39m\u001b[38;5;124moptimizer_state_dict\u001b[39m\u001b[38;5;124m'\u001b[39m])\n\u001b[0;32m      5\u001b[0m     start_epoch \u001b[38;5;241m=\u001b[39m checkpoint[\u001b[38;5;124m'\u001b[39m\u001b[38;5;124mepoch\u001b[39m\u001b[38;5;124m'\u001b[39m]\n",
      "File \u001b[1;32m~\\AppData\\Local\\Packages\\PythonSoftwareFoundation.Python.3.12_qbz5n2kfra8p0\\LocalCache\\local-packages\\Python312\\site-packages\\torch\\nn\\modules\\module.py:2153\u001b[0m, in \u001b[0;36mModule.load_state_dict\u001b[1;34m(self, state_dict, strict, assign)\u001b[0m\n\u001b[0;32m   2148\u001b[0m         error_msgs\u001b[38;5;241m.\u001b[39minsert(\n\u001b[0;32m   2149\u001b[0m             \u001b[38;5;241m0\u001b[39m, \u001b[38;5;124m'\u001b[39m\u001b[38;5;124mMissing key(s) in state_dict: \u001b[39m\u001b[38;5;132;01m{}\u001b[39;00m\u001b[38;5;124m. \u001b[39m\u001b[38;5;124m'\u001b[39m\u001b[38;5;241m.\u001b[39mformat(\n\u001b[0;32m   2150\u001b[0m                 \u001b[38;5;124m'\u001b[39m\u001b[38;5;124m, \u001b[39m\u001b[38;5;124m'\u001b[39m\u001b[38;5;241m.\u001b[39mjoin(\u001b[38;5;124mf\u001b[39m\u001b[38;5;124m'\u001b[39m\u001b[38;5;124m\"\u001b[39m\u001b[38;5;132;01m{\u001b[39;00mk\u001b[38;5;132;01m}\u001b[39;00m\u001b[38;5;124m\"\u001b[39m\u001b[38;5;124m'\u001b[39m \u001b[38;5;28;01mfor\u001b[39;00m k \u001b[38;5;129;01min\u001b[39;00m missing_keys)))\n\u001b[0;32m   2152\u001b[0m \u001b[38;5;28;01mif\u001b[39;00m \u001b[38;5;28mlen\u001b[39m(error_msgs) \u001b[38;5;241m>\u001b[39m \u001b[38;5;241m0\u001b[39m:\n\u001b[1;32m-> 2153\u001b[0m     \u001b[38;5;28;01mraise\u001b[39;00m \u001b[38;5;167;01mRuntimeError\u001b[39;00m(\u001b[38;5;124m'\u001b[39m\u001b[38;5;124mError(s) in loading state_dict for \u001b[39m\u001b[38;5;132;01m{}\u001b[39;00m\u001b[38;5;124m:\u001b[39m\u001b[38;5;130;01m\\n\u001b[39;00m\u001b[38;5;130;01m\\t\u001b[39;00m\u001b[38;5;132;01m{}\u001b[39;00m\u001b[38;5;124m'\u001b[39m\u001b[38;5;241m.\u001b[39mformat(\n\u001b[0;32m   2154\u001b[0m                        \u001b[38;5;28mself\u001b[39m\u001b[38;5;241m.\u001b[39m\u001b[38;5;18m__class__\u001b[39m\u001b[38;5;241m.\u001b[39m\u001b[38;5;18m__name__\u001b[39m, \u001b[38;5;124m\"\u001b[39m\u001b[38;5;130;01m\\n\u001b[39;00m\u001b[38;5;130;01m\\t\u001b[39;00m\u001b[38;5;124m\"\u001b[39m\u001b[38;5;241m.\u001b[39mjoin(error_msgs)))\n\u001b[0;32m   2155\u001b[0m \u001b[38;5;28;01mreturn\u001b[39;00m _IncompatibleKeys(missing_keys, unexpected_keys)\n",
      "\u001b[1;31mRuntimeError\u001b[0m: Error(s) in loading state_dict for ChatTransformerWithCNN:\n\tMissing key(s) in state_dict: \"decoder.layers.0.self_attn.in_proj_weight\", \"decoder.layers.0.self_attn.in_proj_bias\", \"decoder.layers.0.self_attn.out_proj.weight\", \"decoder.layers.0.self_attn.out_proj.bias\", \"decoder.layers.0.multihead_attn.in_proj_weight\", \"decoder.layers.0.multihead_attn.in_proj_bias\", \"decoder.layers.0.multihead_attn.out_proj.weight\", \"decoder.layers.0.multihead_attn.out_proj.bias\", \"decoder.layers.0.linear1.weight\", \"decoder.layers.0.linear1.bias\", \"decoder.layers.0.linear2.weight\", \"decoder.layers.0.linear2.bias\", \"decoder.layers.0.norm1.weight\", \"decoder.layers.0.norm1.bias\", \"decoder.layers.0.norm2.weight\", \"decoder.layers.0.norm2.bias\", \"decoder.layers.0.norm3.weight\", \"decoder.layers.0.norm3.bias\", \"decoder.layers.1.self_attn.in_proj_weight\", \"decoder.layers.1.self_attn.in_proj_bias\", \"decoder.layers.1.self_attn.out_proj.weight\", \"decoder.layers.1.self_attn.out_proj.bias\", \"decoder.layers.1.multihead_attn.in_proj_weight\", \"decoder.layers.1.multihead_attn.in_proj_bias\", \"decoder.layers.1.multihead_attn.out_proj.weight\", \"decoder.layers.1.multihead_attn.out_proj.bias\", \"decoder.layers.1.linear1.weight\", \"decoder.layers.1.linear1.bias\", \"decoder.layers.1.linear2.weight\", \"decoder.layers.1.linear2.bias\", \"decoder.layers.1.norm1.weight\", \"decoder.layers.1.norm1.bias\", \"decoder.layers.1.norm2.weight\", \"decoder.layers.1.norm2.bias\", \"decoder.layers.1.norm3.weight\", \"decoder.layers.1.norm3.bias\", \"decoder.layers.2.self_attn.in_proj_weight\", \"decoder.layers.2.self_attn.in_proj_bias\", \"decoder.layers.2.self_attn.out_proj.weight\", \"decoder.layers.2.self_attn.out_proj.bias\", \"decoder.layers.2.multihead_attn.in_proj_weight\", \"decoder.layers.2.multihead_attn.in_proj_bias\", \"decoder.layers.2.multihead_attn.out_proj.weight\", \"decoder.layers.2.multihead_attn.out_proj.bias\", \"decoder.layers.2.linear1.weight\", \"decoder.layers.2.linear1.bias\", \"decoder.layers.2.linear2.weight\", \"decoder.layers.2.linear2.bias\", \"decoder.layers.2.norm1.weight\", \"decoder.layers.2.norm1.bias\", \"decoder.layers.2.norm2.weight\", \"decoder.layers.2.norm2.bias\", \"decoder.layers.2.norm3.weight\", \"decoder.layers.2.norm3.bias\", \"decoder.layers.3.self_attn.in_proj_weight\", \"decoder.layers.3.self_attn.in_proj_bias\", \"decoder.layers.3.self_attn.out_proj.weight\", \"decoder.layers.3.self_attn.out_proj.bias\", \"decoder.layers.3.multihead_attn.in_proj_weight\", \"decoder.layers.3.multihead_attn.in_proj_bias\", \"decoder.layers.3.multihead_attn.out_proj.weight\", \"decoder.layers.3.multihead_attn.out_proj.bias\", \"decoder.layers.3.linear1.weight\", \"decoder.layers.3.linear1.bias\", \"decoder.layers.3.linear2.weight\", \"decoder.layers.3.linear2.bias\", \"decoder.layers.3.norm1.weight\", \"decoder.layers.3.norm1.bias\", \"decoder.layers.3.norm2.weight\", \"decoder.layers.3.norm2.bias\", \"decoder.layers.3.norm3.weight\", \"decoder.layers.3.norm3.bias\". \n\tUnexpected key(s) in state_dict: \"decoder.encoder.layers.0.self_attn.in_proj_weight\", \"decoder.encoder.layers.0.self_attn.in_proj_bias\", \"decoder.encoder.layers.0.self_attn.out_proj.weight\", \"decoder.encoder.layers.0.self_attn.out_proj.bias\", \"decoder.encoder.layers.0.linear1.weight\", \"decoder.encoder.layers.0.linear1.bias\", \"decoder.encoder.layers.0.linear2.weight\", \"decoder.encoder.layers.0.linear2.bias\", \"decoder.encoder.layers.0.norm1.weight\", \"decoder.encoder.layers.0.norm1.bias\", \"decoder.encoder.layers.0.norm2.weight\", \"decoder.encoder.layers.0.norm2.bias\", \"decoder.encoder.layers.1.self_attn.in_proj_weight\", \"decoder.encoder.layers.1.self_attn.in_proj_bias\", \"decoder.encoder.layers.1.self_attn.out_proj.weight\", \"decoder.encoder.layers.1.self_attn.out_proj.bias\", \"decoder.encoder.layers.1.linear1.weight\", \"decoder.encoder.layers.1.linear1.bias\", \"decoder.encoder.layers.1.linear2.weight\", \"decoder.encoder.layers.1.linear2.bias\", \"decoder.encoder.layers.1.norm1.weight\", \"decoder.encoder.layers.1.norm1.bias\", \"decoder.encoder.layers.1.norm2.weight\", \"decoder.encoder.layers.1.norm2.bias\", \"decoder.encoder.layers.2.self_attn.in_proj_weight\", \"decoder.encoder.layers.2.self_attn.in_proj_bias\", \"decoder.encoder.layers.2.self_attn.out_proj.weight\", \"decoder.encoder.layers.2.self_attn.out_proj.bias\", \"decoder.encoder.layers.2.linear1.weight\", \"decoder.encoder.layers.2.linear1.bias\", \"decoder.encoder.layers.2.linear2.weight\", \"decoder.encoder.layers.2.linear2.bias\", \"decoder.encoder.layers.2.norm1.weight\", \"decoder.encoder.layers.2.norm1.bias\", \"decoder.encoder.layers.2.norm2.weight\", \"decoder.encoder.layers.2.norm2.bias\", \"decoder.encoder.layers.3.self_attn.in_proj_weight\", \"decoder.encoder.layers.3.self_attn.in_proj_bias\", \"decoder.encoder.layers.3.self_attn.out_proj.weight\", \"decoder.encoder.layers.3.self_attn.out_proj.bias\", \"decoder.encoder.layers.3.linear1.weight\", \"decoder.encoder.layers.3.linear1.bias\", \"decoder.encoder.layers.3.linear2.weight\", \"decoder.encoder.layers.3.linear2.bias\", \"decoder.encoder.layers.3.norm1.weight\", \"decoder.encoder.layers.3.norm1.bias\", \"decoder.encoder.layers.3.norm2.weight\", \"decoder.encoder.layers.3.norm2.bias\", \"decoder.encoder.norm.weight\", \"decoder.encoder.norm.bias\", \"decoder.decoder.layers.0.self_attn.in_proj_weight\", \"decoder.decoder.layers.0.self_attn.in_proj_bias\", \"decoder.decoder.layers.0.self_attn.out_proj.weight\", \"decoder.decoder.layers.0.self_attn.out_proj.bias\", \"decoder.decoder.layers.0.multihead_attn.in_proj_weight\", \"decoder.decoder.layers.0.multihead_attn.in_proj_bias\", \"decoder.decoder.layers.0.multihead_attn.out_proj.weight\", \"decoder.decoder.layers.0.multihead_attn.out_proj.bias\", \"decoder.decoder.layers.0.linear1.weight\", \"decoder.decoder.layers.0.linear1.bias\", \"decoder.decoder.layers.0.linear2.weight\", \"decoder.decoder.layers.0.linear2.bias\", \"decoder.decoder.layers.0.norm1.weight\", \"decoder.decoder.layers.0.norm1.bias\", \"decoder.decoder.layers.0.norm2.weight\", \"decoder.decoder.layers.0.norm2.bias\", \"decoder.decoder.layers.0.norm3.weight\", \"decoder.decoder.layers.0.norm3.bias\", \"decoder.decoder.layers.1.self_attn.in_proj_weight\", \"decoder.decoder.layers.1.self_attn.in_proj_bias\", \"decoder.decoder.layers.1.self_attn.out_proj.weight\", \"decoder.decoder.layers.1.self_attn.out_proj.bias\", \"decoder.decoder.layers.1.multihead_attn.in_proj_weight\", \"decoder.decoder.layers.1.multihead_attn.in_proj_bias\", \"decoder.decoder.layers.1.multihead_attn.out_proj.weight\", \"decoder.decoder.layers.1.multihead_attn.out_proj.bias\", \"decoder.decoder.layers.1.linear1.weight\", \"decoder.decoder.layers.1.linear1.bias\", \"decoder.decoder.layers.1.linear2.weight\", \"decoder.decoder.layers.1.linear2.bias\", \"decoder.decoder.layers.1.norm1.weight\", \"decoder.decoder.layers.1.norm1.bias\", \"decoder.decoder.layers.1.norm2.weight\", \"decoder.decoder.layers.1.norm2.bias\", \"decoder.decoder.layers.1.norm3.weight\", \"decoder.decoder.layers.1.norm3.bias\", \"decoder.decoder.layers.2.self_attn.in_proj_weight\", \"decoder.decoder.layers.2.self_attn.in_proj_bias\", \"decoder.decoder.layers.2.self_attn.out_proj.weight\", \"decoder.decoder.layers.2.self_attn.out_proj.bias\", \"decoder.decoder.layers.2.multihead_attn.in_proj_weight\", \"decoder.decoder.layers.2.multihead_attn.in_proj_bias\", \"decoder.decoder.layers.2.multihead_attn.out_proj.weight\", \"decoder.decoder.layers.2.multihead_attn.out_proj.bias\", \"decoder.decoder.layers.2.linear1.weight\", \"decoder.decoder.layers.2.linear1.bias\", \"decoder.decoder.layers.2.linear2.weight\", \"decoder.decoder.layers.2.linear2.bias\", \"decoder.decoder.layers.2.norm1.weight\", \"decoder.decoder.layers.2.norm1.bias\", \"decoder.decoder.layers.2.norm2.weight\", \"decoder.decoder.layers.2.norm2.bias\", \"decoder.decoder.layers.2.norm3.weight\", \"decoder.decoder.layers.2.norm3.bias\", \"decoder.decoder.layers.3.self_attn.in_proj_weight\", \"decoder.decoder.layers.3.self_attn.in_proj_bias\", \"decoder.decoder.layers.3.self_attn.out_proj.weight\", \"decoder.decoder.layers.3.self_attn.out_proj.bias\", \"decoder.decoder.layers.3.multihead_attn.in_proj_weight\", \"decoder.decoder.layers.3.multihead_attn.in_proj_bias\", \"decoder.decoder.layers.3.multihead_attn.out_proj.weight\", \"decoder.decoder.layers.3.multihead_attn.out_proj.bias\", \"decoder.decoder.layers.3.linear1.weight\", \"decoder.decoder.layers.3.linear1.bias\", \"decoder.decoder.layers.3.linear2.weight\", \"decoder.decoder.layers.3.linear2.bias\", \"decoder.decoder.layers.3.norm1.weight\", \"decoder.decoder.layers.3.norm1.bias\", \"decoder.decoder.layers.3.norm2.weight\", \"decoder.decoder.layers.3.norm2.bias\", \"decoder.decoder.layers.3.norm3.weight\", \"decoder.decoder.layers.3.norm3.bias\", \"decoder.decoder.norm.weight\", \"decoder.decoder.norm.bias\". "
     ]
    }
   ],
   "source": [
    "load_model(model, optimizer, path=\"model_checkpoint.pth\")"
   ]
  },
  {
   "cell_type": "code",
   "execution_count": 14,
   "metadata": {},
   "outputs": [],
   "source": [
    "def train_fn(loader, model, optimizer, criterion):\n",
    "    model.train()\n",
    "    total_loss = 0\n",
    "    for input_ids, attention_mask, target_ids in loader:\n",
    "        input_ids, attention_mask, target_ids = input_ids.to(device), attention_mask.to(device), target_ids.to(device)\n",
    "        optimizer.zero_grad()\n",
    "\n",
    "        logits = model(input_ids, attention_mask)  # Pass only the arguments used\n",
    "        logits = logits.view(-1, logits.size(-1))\n",
    "        target_ids = target_ids.view(-1)\n",
    "\n",
    "        loss = criterion(logits, target_ids)\n",
    "        loss.backward()\n",
    "        optimizer.step()\n",
    "\n",
    "        total_loss += loss.item()\n",
    "    return total_loss / len(loader)\n",
    "\n"
   ]
  },
  {
   "cell_type": "code",
   "execution_count": 15,
   "metadata": {},
   "outputs": [],
   "source": [
    "def eval_fn(loader, model, criterion):\n",
    "    model.eval()\n",
    "    total_loss = 0\n",
    "    with torch.no_grad():\n",
    "        for input_ids, attention_mask, target_ids in loader:\n",
    "            input_ids, attention_mask, target_ids = input_ids.to(device), attention_mask.to(device), target_ids.to(device)\n",
    "\n",
    "            logits = model(input_ids, attention_mask)  # Pass only the arguments used\n",
    "            logits = logits.view(-1, logits.size(-1))\n",
    "            target_ids = target_ids.view(-1)\n",
    "\n",
    "            loss = criterion(logits, target_ids)\n",
    "            total_loss += loss.item()\n",
    "    return total_loss / len(loader)"
   ]
  },
  {
   "cell_type": "code",
   "execution_count": 16,
   "metadata": {},
   "outputs": [
    {
     "name": "stderr",
     "output_type": "stream",
     "text": [
      "C:\\Users\\Ezaz\\AppData\\Local\\Packages\\PythonSoftwareFoundation.Python.3.12_qbz5n2kfra8p0\\LocalCache\\local-packages\\Python312\\site-packages\\transformers\\models\\bert\\modeling_bert.py:440: UserWarning: 1Torch was not compiled with flash attention. (Triggered internally at ..\\aten\\src\\ATen\\native\\transformers\\cuda\\sdp_utils.cpp:263.)\n",
      "  attn_output = torch.nn.functional.scaled_dot_product_attention(\n"
     ]
    },
    {
     "name": "stdout",
     "output_type": "stream",
     "text": [
      "Epoch 1, Train Loss: 2.006572997570038\n",
      "Epoch 2, Train Loss: 1.6251471757888794\n",
      "Epoch 3, Train Loss: 1.6268082102139791\n",
      "Epoch 4, Train Loss: 1.589842394987742\n",
      "Epoch 5, Train Loss: 1.5636261661847433\n"
     ]
    },
    {
     "ename": "KeyboardInterrupt",
     "evalue": "",
     "output_type": "error",
     "traceback": [
      "\u001b[1;31m---------------------------------------------------------------------------\u001b[0m",
      "\u001b[1;31mKeyboardInterrupt\u001b[0m                         Traceback (most recent call last)",
      "Cell \u001b[1;32mIn[16], line 4\u001b[0m\n\u001b[0;32m      2\u001b[0m \u001b[38;5;28;01mfor\u001b[39;00m epoc \u001b[38;5;129;01min\u001b[39;00m \u001b[38;5;28mrange\u001b[39m(\u001b[38;5;241m500\u001b[39m):\n\u001b[0;32m      3\u001b[0m     epoch\u001b[38;5;241m=\u001b[39mepoc\n\u001b[1;32m----> 4\u001b[0m     train_loss \u001b[38;5;241m=\u001b[39m \u001b[43mtrain_fn\u001b[49m\u001b[43m(\u001b[49m\u001b[43mtrain_loader\u001b[49m\u001b[43m,\u001b[49m\u001b[43m \u001b[49m\u001b[43mmodel\u001b[49m\u001b[43m,\u001b[49m\u001b[43m \u001b[49m\u001b[43moptimizer\u001b[49m\u001b[43m,\u001b[49m\u001b[43m \u001b[49m\u001b[43mcriterion\u001b[49m\u001b[43m)\u001b[49m\n\u001b[0;32m      6\u001b[0m     \u001b[38;5;28mprint\u001b[39m(\u001b[38;5;124mf\u001b[39m\u001b[38;5;124m\"\u001b[39m\u001b[38;5;124mEpoch \u001b[39m\u001b[38;5;132;01m{\u001b[39;00mepoch\u001b[38;5;250m \u001b[39m\u001b[38;5;241m+\u001b[39m\u001b[38;5;250m \u001b[39m\u001b[38;5;241m1\u001b[39m\u001b[38;5;132;01m}\u001b[39;00m\u001b[38;5;124m, Train Loss: \u001b[39m\u001b[38;5;132;01m{\u001b[39;00mtrain_loss\u001b[38;5;132;01m}\u001b[39;00m\u001b[38;5;124m\"\u001b[39m)\n",
      "Cell \u001b[1;32mIn[14], line 13\u001b[0m, in \u001b[0;36mtrain_fn\u001b[1;34m(loader, model, optimizer, criterion)\u001b[0m\n\u001b[0;32m     10\u001b[0m target_ids \u001b[38;5;241m=\u001b[39m target_ids\u001b[38;5;241m.\u001b[39mview(\u001b[38;5;241m-\u001b[39m\u001b[38;5;241m1\u001b[39m)\n\u001b[0;32m     12\u001b[0m loss \u001b[38;5;241m=\u001b[39m criterion(logits, target_ids)\n\u001b[1;32m---> 13\u001b[0m \u001b[43mloss\u001b[49m\u001b[38;5;241;43m.\u001b[39;49m\u001b[43mbackward\u001b[49m\u001b[43m(\u001b[49m\u001b[43m)\u001b[49m\n\u001b[0;32m     14\u001b[0m optimizer\u001b[38;5;241m.\u001b[39mstep()\n\u001b[0;32m     16\u001b[0m total_loss \u001b[38;5;241m+\u001b[39m\u001b[38;5;241m=\u001b[39m loss\u001b[38;5;241m.\u001b[39mitem()\n",
      "File \u001b[1;32m~\\AppData\\Local\\Packages\\PythonSoftwareFoundation.Python.3.12_qbz5n2kfra8p0\\LocalCache\\local-packages\\Python312\\site-packages\\torch\\_tensor.py:522\u001b[0m, in \u001b[0;36mTensor.backward\u001b[1;34m(self, gradient, retain_graph, create_graph, inputs)\u001b[0m\n\u001b[0;32m    512\u001b[0m \u001b[38;5;28;01mif\u001b[39;00m has_torch_function_unary(\u001b[38;5;28mself\u001b[39m):\n\u001b[0;32m    513\u001b[0m     \u001b[38;5;28;01mreturn\u001b[39;00m handle_torch_function(\n\u001b[0;32m    514\u001b[0m         Tensor\u001b[38;5;241m.\u001b[39mbackward,\n\u001b[0;32m    515\u001b[0m         (\u001b[38;5;28mself\u001b[39m,),\n\u001b[1;32m   (...)\u001b[0m\n\u001b[0;32m    520\u001b[0m         inputs\u001b[38;5;241m=\u001b[39minputs,\n\u001b[0;32m    521\u001b[0m     )\n\u001b[1;32m--> 522\u001b[0m \u001b[43mtorch\u001b[49m\u001b[38;5;241;43m.\u001b[39;49m\u001b[43mautograd\u001b[49m\u001b[38;5;241;43m.\u001b[39;49m\u001b[43mbackward\u001b[49m\u001b[43m(\u001b[49m\n\u001b[0;32m    523\u001b[0m \u001b[43m    \u001b[49m\u001b[38;5;28;43mself\u001b[39;49m\u001b[43m,\u001b[49m\u001b[43m \u001b[49m\u001b[43mgradient\u001b[49m\u001b[43m,\u001b[49m\u001b[43m \u001b[49m\u001b[43mretain_graph\u001b[49m\u001b[43m,\u001b[49m\u001b[43m \u001b[49m\u001b[43mcreate_graph\u001b[49m\u001b[43m,\u001b[49m\u001b[43m \u001b[49m\u001b[43minputs\u001b[49m\u001b[38;5;241;43m=\u001b[39;49m\u001b[43minputs\u001b[49m\n\u001b[0;32m    524\u001b[0m \u001b[43m\u001b[49m\u001b[43m)\u001b[49m\n",
      "File \u001b[1;32m~\\AppData\\Local\\Packages\\PythonSoftwareFoundation.Python.3.12_qbz5n2kfra8p0\\LocalCache\\local-packages\\Python312\\site-packages\\torch\\autograd\\__init__.py:266\u001b[0m, in \u001b[0;36mbackward\u001b[1;34m(tensors, grad_tensors, retain_graph, create_graph, grad_variables, inputs)\u001b[0m\n\u001b[0;32m    261\u001b[0m     retain_graph \u001b[38;5;241m=\u001b[39m create_graph\n\u001b[0;32m    263\u001b[0m \u001b[38;5;66;03m# The reason we repeat the same comment below is that\u001b[39;00m\n\u001b[0;32m    264\u001b[0m \u001b[38;5;66;03m# some Python versions print out the first line of a multi-line function\u001b[39;00m\n\u001b[0;32m    265\u001b[0m \u001b[38;5;66;03m# calls in the traceback and some print out the last line\u001b[39;00m\n\u001b[1;32m--> 266\u001b[0m \u001b[43mVariable\u001b[49m\u001b[38;5;241;43m.\u001b[39;49m\u001b[43m_execution_engine\u001b[49m\u001b[38;5;241;43m.\u001b[39;49m\u001b[43mrun_backward\u001b[49m\u001b[43m(\u001b[49m\u001b[43m  \u001b[49m\u001b[38;5;66;43;03m# Calls into the C++ engine to run the backward pass\u001b[39;49;00m\n\u001b[0;32m    267\u001b[0m \u001b[43m    \u001b[49m\u001b[43mtensors\u001b[49m\u001b[43m,\u001b[49m\n\u001b[0;32m    268\u001b[0m \u001b[43m    \u001b[49m\u001b[43mgrad_tensors_\u001b[49m\u001b[43m,\u001b[49m\n\u001b[0;32m    269\u001b[0m \u001b[43m    \u001b[49m\u001b[43mretain_graph\u001b[49m\u001b[43m,\u001b[49m\n\u001b[0;32m    270\u001b[0m \u001b[43m    \u001b[49m\u001b[43mcreate_graph\u001b[49m\u001b[43m,\u001b[49m\n\u001b[0;32m    271\u001b[0m \u001b[43m    \u001b[49m\u001b[43minputs\u001b[49m\u001b[43m,\u001b[49m\n\u001b[0;32m    272\u001b[0m \u001b[43m    \u001b[49m\u001b[43mallow_unreachable\u001b[49m\u001b[38;5;241;43m=\u001b[39;49m\u001b[38;5;28;43;01mTrue\u001b[39;49;00m\u001b[43m,\u001b[49m\n\u001b[0;32m    273\u001b[0m \u001b[43m    \u001b[49m\u001b[43maccumulate_grad\u001b[49m\u001b[38;5;241;43m=\u001b[39;49m\u001b[38;5;28;43;01mTrue\u001b[39;49;00m\u001b[43m,\u001b[49m\n\u001b[0;32m    274\u001b[0m \u001b[43m\u001b[49m\u001b[43m)\u001b[49m\n",
      "\u001b[1;31mKeyboardInterrupt\u001b[0m: "
     ]
    }
   ],
   "source": [
    "epoch=0\n",
    "for epoc in range(500):\n",
    "    epoch=epoc\n",
    "    train_loss = train_fn(train_loader, model, optimizer, criterion)\n",
    "\n",
    "    print(f\"Epoch {epoch + 1}, Train Loss: {train_loss}\")"
   ]
  },
  {
   "cell_type": "code",
   "execution_count": 17,
   "metadata": {},
   "outputs": [
    {
     "name": "stdout",
     "output_type": "stream",
     "text": [
      " Val Loss: 1.5610515872637432\n"
     ]
    }
   ],
   "source": [
    "val_loss = eval_fn(val_loader, model, criterion)\n",
    "print(f\" Val Loss: {val_loss}\")"
   ]
  },
  {
   "cell_type": "code",
   "execution_count": 18,
   "metadata": {},
   "outputs": [],
   "source": [
    "def save_model(model, optimizer, epoch, path=\"model_checkpoint.pth\"):\n",
    "    torch.save({\n",
    "        'model_state_dict': model.state_dict(),\n",
    "        'optimizer_state_dict': optimizer.state_dict(),\n",
    "        'epoch': epoch\n",
    "    }, path)\n"
   ]
  },
  {
   "cell_type": "code",
   "execution_count": 19,
   "metadata": {},
   "outputs": [],
   "source": [
    "save_model(model, optimizer, epoch, path=\"model_checkpoint.pth\")"
   ]
  },
  {
   "cell_type": "code",
   "execution_count": 50,
   "metadata": {},
   "outputs": [],
   "source": [
    "def predict_response(input_text, max_length=50):\n",
    "    model.eval()  # Set model to evaluation mode\n",
    "    with torch.no_grad():\n",
    "        # Tokenize the input text\n",
    "        input_enc = model.tokenizer(\n",
    "            input_text,\n",
    "            return_tensors=\"pt\",\n",
    "            truncation=True,\n",
    "            padding=\"max_length\",\n",
    "            max_length=max_length\n",
    "        )\n",
    "        input_ids = input_enc[\"input_ids\"].to(device)\n",
    "        attention_mask = input_enc[\"attention_mask\"].to(device)\n",
    "\n",
    "        print(\"Input Token IDs:\", input_ids)\n",
    "        print(\"Attention Mask:\", attention_mask)\n",
    "        print(\"Input Text Tokens:\", model.tokenizer.convert_ids_to_tokens(input_ids.squeeze().tolist()))\n",
    "        \n",
    "        # Get encoder outputs from the BERT encoder\n",
    "        encoder_outputs = model.encoder(input_ids, attention_mask=attention_mask)\n",
    "        encoder_hidden_states = encoder_outputs['last_hidden_state']  # Shape: [batch_size, seq_len, embed_dim]\n",
    "        print(\"Encoder Hidden States Shape:\", encoder_hidden_states.shape)\n",
    "\n",
    "        # Apply CNN layers to encoder hidden states\n",
    "        cnn_out = model.conv1(encoder_hidden_states.permute(0, 2, 1))  # Shape: [batch_size, embed_dim, seq_len]\n",
    "        cnn_out = nn.ReLU()(cnn_out)\n",
    "        cnn_out = model.conv2(cnn_out)\n",
    "        cnn_out = nn.ReLU()(cnn_out)\n",
    "        cnn_out = model.conv3(cnn_out).permute(0, 2, 1)  # Shape: [batch_size, seq_len, embed_dim]\n",
    "        print(\"CNN Output Shape:\", cnn_out.shape)\n",
    "\n",
    "        # Create the padding mask for attention\n",
    "        attn_mask = (attention_mask == 0)  # Shape [batch_size, seq_len]\n",
    "\n",
    "        # Apply Multihead Attention\n",
    "        attn_output, _ = model.attention(cnn_out, cnn_out, cnn_out, key_padding_mask=attn_mask)\n",
    "        print(\"Attention Output Shape:\", attn_output.shape)\n",
    "\n",
    "        # Initialize the decoder input (start token)\n",
    "        decoder_input = input_ids[:, 0:1]  # Take the first token\n",
    "        decoder_input_embedded = model.encoder.embeddings(decoder_input)  # Get its embedding\n",
    "        print(\"Decoder Input Shape:\", decoder_input_embedded.shape)\n",
    "\n",
    "        # Generate tokens one by one\n",
    "        generated_ids = decoder_input\n",
    "        for _ in range(max_length - 1):\n",
    "            decoder_output = model.decoder(tgt=decoder_input_embedded, memory=attn_output)\n",
    "\n",
    "            # Get the logits from the decoder output\n",
    "            logits = model.fc_out(decoder_output)  # Shape: [batch_size, seq_len, vocab_size]\n",
    "            print(\"Logits Shape:\", logits.shape)\n",
    "\n",
    "            # Get the most probable token (argmax over vocab dimension)\n",
    "            next_token_ids = torch.argmax(logits[:, -1, :], dim=-1).unsqueeze(-1)\n",
    "\n",
    "            # Embed the new token for the next step\n",
    "            decoder_input_embedded = model.encoder.embeddings(next_token_ids)\n",
    "\n",
    "            # Append the predicted token to the sequence\n",
    "            generated_ids = torch.cat((generated_ids, next_token_ids), dim=1)\n",
    "\n",
    "        # Decode the generated token IDs into text\n",
    "        generated_text = model.tokenizer.decode(generated_ids.squeeze().tolist(), skip_special_tokens=True)\n",
    "\n",
    "        print(\"Generated Token IDs:\", generated_ids)\n",
    "        print(\"Generated Text:\", generated_text)\n",
    "\n",
    "        return generated_text\n"
   ]
  },
  {
   "cell_type": "code",
   "execution_count": 51,
   "metadata": {},
   "outputs": [
    {
     "name": "stdout",
     "output_type": "stream",
     "text": [
      "Input Token IDs: tensor([[ 101, 2053, 3291, 1012, 2061, 2129, 2031, 2017, 2042, 1029,  102,    0,\n",
      "            0,    0,    0,    0,    0,    0,    0,    0,    0,    0,    0,    0,\n",
      "            0,    0,    0,    0,    0,    0,    0,    0,    0,    0,    0,    0,\n",
      "            0,    0,    0,    0,    0,    0,    0,    0,    0,    0,    0,    0,\n",
      "            0,    0]], device='cuda:0')\n",
      "Attention Mask: tensor([[1, 1, 1, 1, 1, 1, 1, 1, 1, 1, 1, 0, 0, 0, 0, 0, 0, 0, 0, 0, 0, 0, 0, 0,\n",
      "         0, 0, 0, 0, 0, 0, 0, 0, 0, 0, 0, 0, 0, 0, 0, 0, 0, 0, 0, 0, 0, 0, 0, 0,\n",
      "         0, 0]], device='cuda:0')\n",
      "Input Text Tokens: ['[CLS]', 'no', 'problem', '.', 'so', 'how', 'have', 'you', 'been', '?', '[SEP]', '[PAD]', '[PAD]', '[PAD]', '[PAD]', '[PAD]', '[PAD]', '[PAD]', '[PAD]', '[PAD]', '[PAD]', '[PAD]', '[PAD]', '[PAD]', '[PAD]', '[PAD]', '[PAD]', '[PAD]', '[PAD]', '[PAD]', '[PAD]', '[PAD]', '[PAD]', '[PAD]', '[PAD]', '[PAD]', '[PAD]', '[PAD]', '[PAD]', '[PAD]', '[PAD]', '[PAD]', '[PAD]', '[PAD]', '[PAD]', '[PAD]', '[PAD]', '[PAD]', '[PAD]', '[PAD]']\n",
      "Encoder Hidden States Shape: torch.Size([1, 50, 768])\n",
      "CNN Output Shape: torch.Size([1, 50, 768])\n",
      "Attention Output Shape: torch.Size([1, 50, 768])\n",
      "Decoder Input Shape: torch.Size([1, 1, 768])\n"
     ]
    },
    {
     "ename": "RuntimeError",
     "evalue": "shape '[1, 8, 96]' is invalid for input of size 38400",
     "output_type": "error",
     "traceback": [
      "\u001b[1;31m---------------------------------------------------------------------------\u001b[0m",
      "\u001b[1;31mRuntimeError\u001b[0m                              Traceback (most recent call last)",
      "Cell \u001b[1;32mIn[51], line 1\u001b[0m\n\u001b[1;32m----> 1\u001b[0m \u001b[43mpredict_response\u001b[49m\u001b[43m(\u001b[49m\u001b[38;5;124;43m\"\u001b[39;49m\u001b[38;5;124;43mno problem. so how have you been?\u001b[39;49m\u001b[38;5;124;43m\"\u001b[39;49m\u001b[43m)\u001b[49m\n",
      "Cell \u001b[1;32mIn[50], line 47\u001b[0m, in \u001b[0;36mpredict_response\u001b[1;34m(input_text, max_length)\u001b[0m\n\u001b[0;32m     45\u001b[0m generated_ids \u001b[38;5;241m=\u001b[39m decoder_input\n\u001b[0;32m     46\u001b[0m \u001b[38;5;28;01mfor\u001b[39;00m _ \u001b[38;5;129;01min\u001b[39;00m \u001b[38;5;28mrange\u001b[39m(max_length \u001b[38;5;241m-\u001b[39m \u001b[38;5;241m1\u001b[39m):\n\u001b[1;32m---> 47\u001b[0m     decoder_output \u001b[38;5;241m=\u001b[39m \u001b[43mmodel\u001b[49m\u001b[38;5;241;43m.\u001b[39;49m\u001b[43mdecoder\u001b[49m\u001b[43m(\u001b[49m\u001b[43mtgt\u001b[49m\u001b[38;5;241;43m=\u001b[39;49m\u001b[43mdecoder_input_embedded\u001b[49m\u001b[43m,\u001b[49m\u001b[43m \u001b[49m\u001b[43mmemory\u001b[49m\u001b[38;5;241;43m=\u001b[39;49m\u001b[43mattn_output\u001b[49m\u001b[43m)\u001b[49m\n\u001b[0;32m     49\u001b[0m     \u001b[38;5;66;03m# Get the logits from the decoder output\u001b[39;00m\n\u001b[0;32m     50\u001b[0m     logits \u001b[38;5;241m=\u001b[39m model\u001b[38;5;241m.\u001b[39mfc_out(decoder_output)  \u001b[38;5;66;03m# Shape: [batch_size, seq_len, vocab_size]\u001b[39;00m\n",
      "File \u001b[1;32m~\\AppData\\Local\\Packages\\PythonSoftwareFoundation.Python.3.12_qbz5n2kfra8p0\\LocalCache\\local-packages\\Python312\\site-packages\\torch\\nn\\modules\\module.py:1511\u001b[0m, in \u001b[0;36mModule._wrapped_call_impl\u001b[1;34m(self, *args, **kwargs)\u001b[0m\n\u001b[0;32m   1509\u001b[0m     \u001b[38;5;28;01mreturn\u001b[39;00m \u001b[38;5;28mself\u001b[39m\u001b[38;5;241m.\u001b[39m_compiled_call_impl(\u001b[38;5;241m*\u001b[39margs, \u001b[38;5;241m*\u001b[39m\u001b[38;5;241m*\u001b[39mkwargs)  \u001b[38;5;66;03m# type: ignore[misc]\u001b[39;00m\n\u001b[0;32m   1510\u001b[0m \u001b[38;5;28;01melse\u001b[39;00m:\n\u001b[1;32m-> 1511\u001b[0m     \u001b[38;5;28;01mreturn\u001b[39;00m \u001b[38;5;28;43mself\u001b[39;49m\u001b[38;5;241;43m.\u001b[39;49m\u001b[43m_call_impl\u001b[49m\u001b[43m(\u001b[49m\u001b[38;5;241;43m*\u001b[39;49m\u001b[43margs\u001b[49m\u001b[43m,\u001b[49m\u001b[43m \u001b[49m\u001b[38;5;241;43m*\u001b[39;49m\u001b[38;5;241;43m*\u001b[39;49m\u001b[43mkwargs\u001b[49m\u001b[43m)\u001b[49m\n",
      "File \u001b[1;32m~\\AppData\\Local\\Packages\\PythonSoftwareFoundation.Python.3.12_qbz5n2kfra8p0\\LocalCache\\local-packages\\Python312\\site-packages\\torch\\nn\\modules\\module.py:1520\u001b[0m, in \u001b[0;36mModule._call_impl\u001b[1;34m(self, *args, **kwargs)\u001b[0m\n\u001b[0;32m   1515\u001b[0m \u001b[38;5;66;03m# If we don't have any hooks, we want to skip the rest of the logic in\u001b[39;00m\n\u001b[0;32m   1516\u001b[0m \u001b[38;5;66;03m# this function, and just call forward.\u001b[39;00m\n\u001b[0;32m   1517\u001b[0m \u001b[38;5;28;01mif\u001b[39;00m \u001b[38;5;129;01mnot\u001b[39;00m (\u001b[38;5;28mself\u001b[39m\u001b[38;5;241m.\u001b[39m_backward_hooks \u001b[38;5;129;01mor\u001b[39;00m \u001b[38;5;28mself\u001b[39m\u001b[38;5;241m.\u001b[39m_backward_pre_hooks \u001b[38;5;129;01mor\u001b[39;00m \u001b[38;5;28mself\u001b[39m\u001b[38;5;241m.\u001b[39m_forward_hooks \u001b[38;5;129;01mor\u001b[39;00m \u001b[38;5;28mself\u001b[39m\u001b[38;5;241m.\u001b[39m_forward_pre_hooks\n\u001b[0;32m   1518\u001b[0m         \u001b[38;5;129;01mor\u001b[39;00m _global_backward_pre_hooks \u001b[38;5;129;01mor\u001b[39;00m _global_backward_hooks\n\u001b[0;32m   1519\u001b[0m         \u001b[38;5;129;01mor\u001b[39;00m _global_forward_hooks \u001b[38;5;129;01mor\u001b[39;00m _global_forward_pre_hooks):\n\u001b[1;32m-> 1520\u001b[0m     \u001b[38;5;28;01mreturn\u001b[39;00m \u001b[43mforward_call\u001b[49m\u001b[43m(\u001b[49m\u001b[38;5;241;43m*\u001b[39;49m\u001b[43margs\u001b[49m\u001b[43m,\u001b[49m\u001b[43m \u001b[49m\u001b[38;5;241;43m*\u001b[39;49m\u001b[38;5;241;43m*\u001b[39;49m\u001b[43mkwargs\u001b[49m\u001b[43m)\u001b[49m\n\u001b[0;32m   1522\u001b[0m \u001b[38;5;28;01mtry\u001b[39;00m:\n\u001b[0;32m   1523\u001b[0m     result \u001b[38;5;241m=\u001b[39m \u001b[38;5;28;01mNone\u001b[39;00m\n",
      "File \u001b[1;32m~\\AppData\\Local\\Packages\\PythonSoftwareFoundation.Python.3.12_qbz5n2kfra8p0\\LocalCache\\local-packages\\Python312\\site-packages\\torch\\nn\\modules\\transformer.py:465\u001b[0m, in \u001b[0;36mTransformerDecoder.forward\u001b[1;34m(self, tgt, memory, tgt_mask, memory_mask, tgt_key_padding_mask, memory_key_padding_mask, tgt_is_causal, memory_is_causal)\u001b[0m\n\u001b[0;32m    462\u001b[0m tgt_is_causal \u001b[38;5;241m=\u001b[39m _detect_is_causal_mask(tgt_mask, tgt_is_causal, seq_len)\n\u001b[0;32m    464\u001b[0m \u001b[38;5;28;01mfor\u001b[39;00m mod \u001b[38;5;129;01min\u001b[39;00m \u001b[38;5;28mself\u001b[39m\u001b[38;5;241m.\u001b[39mlayers:\n\u001b[1;32m--> 465\u001b[0m     output \u001b[38;5;241m=\u001b[39m \u001b[43mmod\u001b[49m\u001b[43m(\u001b[49m\u001b[43moutput\u001b[49m\u001b[43m,\u001b[49m\u001b[43m \u001b[49m\u001b[43mmemory\u001b[49m\u001b[43m,\u001b[49m\u001b[43m \u001b[49m\u001b[43mtgt_mask\u001b[49m\u001b[38;5;241;43m=\u001b[39;49m\u001b[43mtgt_mask\u001b[49m\u001b[43m,\u001b[49m\n\u001b[0;32m    466\u001b[0m \u001b[43m                 \u001b[49m\u001b[43mmemory_mask\u001b[49m\u001b[38;5;241;43m=\u001b[39;49m\u001b[43mmemory_mask\u001b[49m\u001b[43m,\u001b[49m\n\u001b[0;32m    467\u001b[0m \u001b[43m                 \u001b[49m\u001b[43mtgt_key_padding_mask\u001b[49m\u001b[38;5;241;43m=\u001b[39;49m\u001b[43mtgt_key_padding_mask\u001b[49m\u001b[43m,\u001b[49m\n\u001b[0;32m    468\u001b[0m \u001b[43m                 \u001b[49m\u001b[43mmemory_key_padding_mask\u001b[49m\u001b[38;5;241;43m=\u001b[39;49m\u001b[43mmemory_key_padding_mask\u001b[49m\u001b[43m,\u001b[49m\n\u001b[0;32m    469\u001b[0m \u001b[43m                 \u001b[49m\u001b[43mtgt_is_causal\u001b[49m\u001b[38;5;241;43m=\u001b[39;49m\u001b[43mtgt_is_causal\u001b[49m\u001b[43m,\u001b[49m\n\u001b[0;32m    470\u001b[0m \u001b[43m                 \u001b[49m\u001b[43mmemory_is_causal\u001b[49m\u001b[38;5;241;43m=\u001b[39;49m\u001b[43mmemory_is_causal\u001b[49m\u001b[43m)\u001b[49m\n\u001b[0;32m    472\u001b[0m \u001b[38;5;28;01mif\u001b[39;00m \u001b[38;5;28mself\u001b[39m\u001b[38;5;241m.\u001b[39mnorm \u001b[38;5;129;01mis\u001b[39;00m \u001b[38;5;129;01mnot\u001b[39;00m \u001b[38;5;28;01mNone\u001b[39;00m:\n\u001b[0;32m    473\u001b[0m     output \u001b[38;5;241m=\u001b[39m \u001b[38;5;28mself\u001b[39m\u001b[38;5;241m.\u001b[39mnorm(output)\n",
      "File \u001b[1;32m~\\AppData\\Local\\Packages\\PythonSoftwareFoundation.Python.3.12_qbz5n2kfra8p0\\LocalCache\\local-packages\\Python312\\site-packages\\torch\\nn\\modules\\module.py:1511\u001b[0m, in \u001b[0;36mModule._wrapped_call_impl\u001b[1;34m(self, *args, **kwargs)\u001b[0m\n\u001b[0;32m   1509\u001b[0m     \u001b[38;5;28;01mreturn\u001b[39;00m \u001b[38;5;28mself\u001b[39m\u001b[38;5;241m.\u001b[39m_compiled_call_impl(\u001b[38;5;241m*\u001b[39margs, \u001b[38;5;241m*\u001b[39m\u001b[38;5;241m*\u001b[39mkwargs)  \u001b[38;5;66;03m# type: ignore[misc]\u001b[39;00m\n\u001b[0;32m   1510\u001b[0m \u001b[38;5;28;01melse\u001b[39;00m:\n\u001b[1;32m-> 1511\u001b[0m     \u001b[38;5;28;01mreturn\u001b[39;00m \u001b[38;5;28;43mself\u001b[39;49m\u001b[38;5;241;43m.\u001b[39;49m\u001b[43m_call_impl\u001b[49m\u001b[43m(\u001b[49m\u001b[38;5;241;43m*\u001b[39;49m\u001b[43margs\u001b[49m\u001b[43m,\u001b[49m\u001b[43m \u001b[49m\u001b[38;5;241;43m*\u001b[39;49m\u001b[38;5;241;43m*\u001b[39;49m\u001b[43mkwargs\u001b[49m\u001b[43m)\u001b[49m\n",
      "File \u001b[1;32m~\\AppData\\Local\\Packages\\PythonSoftwareFoundation.Python.3.12_qbz5n2kfra8p0\\LocalCache\\local-packages\\Python312\\site-packages\\torch\\nn\\modules\\module.py:1520\u001b[0m, in \u001b[0;36mModule._call_impl\u001b[1;34m(self, *args, **kwargs)\u001b[0m\n\u001b[0;32m   1515\u001b[0m \u001b[38;5;66;03m# If we don't have any hooks, we want to skip the rest of the logic in\u001b[39;00m\n\u001b[0;32m   1516\u001b[0m \u001b[38;5;66;03m# this function, and just call forward.\u001b[39;00m\n\u001b[0;32m   1517\u001b[0m \u001b[38;5;28;01mif\u001b[39;00m \u001b[38;5;129;01mnot\u001b[39;00m (\u001b[38;5;28mself\u001b[39m\u001b[38;5;241m.\u001b[39m_backward_hooks \u001b[38;5;129;01mor\u001b[39;00m \u001b[38;5;28mself\u001b[39m\u001b[38;5;241m.\u001b[39m_backward_pre_hooks \u001b[38;5;129;01mor\u001b[39;00m \u001b[38;5;28mself\u001b[39m\u001b[38;5;241m.\u001b[39m_forward_hooks \u001b[38;5;129;01mor\u001b[39;00m \u001b[38;5;28mself\u001b[39m\u001b[38;5;241m.\u001b[39m_forward_pre_hooks\n\u001b[0;32m   1518\u001b[0m         \u001b[38;5;129;01mor\u001b[39;00m _global_backward_pre_hooks \u001b[38;5;129;01mor\u001b[39;00m _global_backward_hooks\n\u001b[0;32m   1519\u001b[0m         \u001b[38;5;129;01mor\u001b[39;00m _global_forward_hooks \u001b[38;5;129;01mor\u001b[39;00m _global_forward_pre_hooks):\n\u001b[1;32m-> 1520\u001b[0m     \u001b[38;5;28;01mreturn\u001b[39;00m \u001b[43mforward_call\u001b[49m\u001b[43m(\u001b[49m\u001b[38;5;241;43m*\u001b[39;49m\u001b[43margs\u001b[49m\u001b[43m,\u001b[49m\u001b[43m \u001b[49m\u001b[38;5;241;43m*\u001b[39;49m\u001b[38;5;241;43m*\u001b[39;49m\u001b[43mkwargs\u001b[49m\u001b[43m)\u001b[49m\n\u001b[0;32m   1522\u001b[0m \u001b[38;5;28;01mtry\u001b[39;00m:\n\u001b[0;32m   1523\u001b[0m     result \u001b[38;5;241m=\u001b[39m \u001b[38;5;28;01mNone\u001b[39;00m\n",
      "File \u001b[1;32m~\\AppData\\Local\\Packages\\PythonSoftwareFoundation.Python.3.12_qbz5n2kfra8p0\\LocalCache\\local-packages\\Python312\\site-packages\\torch\\nn\\modules\\transformer.py:856\u001b[0m, in \u001b[0;36mTransformerDecoderLayer.forward\u001b[1;34m(self, tgt, memory, tgt_mask, memory_mask, tgt_key_padding_mask, memory_key_padding_mask, tgt_is_causal, memory_is_causal)\u001b[0m\n\u001b[0;32m    854\u001b[0m \u001b[38;5;28;01melse\u001b[39;00m:\n\u001b[0;32m    855\u001b[0m     x \u001b[38;5;241m=\u001b[39m \u001b[38;5;28mself\u001b[39m\u001b[38;5;241m.\u001b[39mnorm1(x \u001b[38;5;241m+\u001b[39m \u001b[38;5;28mself\u001b[39m\u001b[38;5;241m.\u001b[39m_sa_block(x, tgt_mask, tgt_key_padding_mask, tgt_is_causal))\n\u001b[1;32m--> 856\u001b[0m     x \u001b[38;5;241m=\u001b[39m \u001b[38;5;28mself\u001b[39m\u001b[38;5;241m.\u001b[39mnorm2(x \u001b[38;5;241m+\u001b[39m \u001b[38;5;28;43mself\u001b[39;49m\u001b[38;5;241;43m.\u001b[39;49m\u001b[43m_mha_block\u001b[49m\u001b[43m(\u001b[49m\u001b[43mx\u001b[49m\u001b[43m,\u001b[49m\u001b[43m \u001b[49m\u001b[43mmemory\u001b[49m\u001b[43m,\u001b[49m\u001b[43m \u001b[49m\u001b[43mmemory_mask\u001b[49m\u001b[43m,\u001b[49m\u001b[43m \u001b[49m\u001b[43mmemory_key_padding_mask\u001b[49m\u001b[43m,\u001b[49m\u001b[43m \u001b[49m\u001b[43mmemory_is_causal\u001b[49m\u001b[43m)\u001b[49m)\n\u001b[0;32m    857\u001b[0m     x \u001b[38;5;241m=\u001b[39m \u001b[38;5;28mself\u001b[39m\u001b[38;5;241m.\u001b[39mnorm3(x \u001b[38;5;241m+\u001b[39m \u001b[38;5;28mself\u001b[39m\u001b[38;5;241m.\u001b[39m_ff_block(x))\n\u001b[0;32m    859\u001b[0m \u001b[38;5;28;01mreturn\u001b[39;00m x\n",
      "File \u001b[1;32m~\\AppData\\Local\\Packages\\PythonSoftwareFoundation.Python.3.12_qbz5n2kfra8p0\\LocalCache\\local-packages\\Python312\\site-packages\\torch\\nn\\modules\\transformer.py:874\u001b[0m, in \u001b[0;36mTransformerDecoderLayer._mha_block\u001b[1;34m(self, x, mem, attn_mask, key_padding_mask, is_causal)\u001b[0m\n\u001b[0;32m    872\u001b[0m \u001b[38;5;28;01mdef\u001b[39;00m \u001b[38;5;21m_mha_block\u001b[39m(\u001b[38;5;28mself\u001b[39m, x: Tensor, mem: Tensor,\n\u001b[0;32m    873\u001b[0m                attn_mask: Optional[Tensor], key_padding_mask: Optional[Tensor], is_causal: \u001b[38;5;28mbool\u001b[39m \u001b[38;5;241m=\u001b[39m \u001b[38;5;28;01mFalse\u001b[39;00m) \u001b[38;5;241m-\u001b[39m\u001b[38;5;241m>\u001b[39m Tensor:\n\u001b[1;32m--> 874\u001b[0m     x \u001b[38;5;241m=\u001b[39m \u001b[38;5;28;43mself\u001b[39;49m\u001b[38;5;241;43m.\u001b[39;49m\u001b[43mmultihead_attn\u001b[49m\u001b[43m(\u001b[49m\u001b[43mx\u001b[49m\u001b[43m,\u001b[49m\u001b[43m \u001b[49m\u001b[43mmem\u001b[49m\u001b[43m,\u001b[49m\u001b[43m \u001b[49m\u001b[43mmem\u001b[49m\u001b[43m,\u001b[49m\n\u001b[0;32m    875\u001b[0m \u001b[43m                            \u001b[49m\u001b[43mattn_mask\u001b[49m\u001b[38;5;241;43m=\u001b[39;49m\u001b[43mattn_mask\u001b[49m\u001b[43m,\u001b[49m\n\u001b[0;32m    876\u001b[0m \u001b[43m                            \u001b[49m\u001b[43mkey_padding_mask\u001b[49m\u001b[38;5;241;43m=\u001b[39;49m\u001b[43mkey_padding_mask\u001b[49m\u001b[43m,\u001b[49m\n\u001b[0;32m    877\u001b[0m \u001b[43m                            \u001b[49m\u001b[43mis_causal\u001b[49m\u001b[38;5;241;43m=\u001b[39;49m\u001b[43mis_causal\u001b[49m\u001b[43m,\u001b[49m\n\u001b[0;32m    878\u001b[0m \u001b[43m                            \u001b[49m\u001b[43mneed_weights\u001b[49m\u001b[38;5;241;43m=\u001b[39;49m\u001b[38;5;28;43;01mFalse\u001b[39;49;00m\u001b[43m)\u001b[49m[\u001b[38;5;241m0\u001b[39m]\n\u001b[0;32m    879\u001b[0m     \u001b[38;5;28;01mreturn\u001b[39;00m \u001b[38;5;28mself\u001b[39m\u001b[38;5;241m.\u001b[39mdropout2(x)\n",
      "File \u001b[1;32m~\\AppData\\Local\\Packages\\PythonSoftwareFoundation.Python.3.12_qbz5n2kfra8p0\\LocalCache\\local-packages\\Python312\\site-packages\\torch\\nn\\modules\\module.py:1511\u001b[0m, in \u001b[0;36mModule._wrapped_call_impl\u001b[1;34m(self, *args, **kwargs)\u001b[0m\n\u001b[0;32m   1509\u001b[0m     \u001b[38;5;28;01mreturn\u001b[39;00m \u001b[38;5;28mself\u001b[39m\u001b[38;5;241m.\u001b[39m_compiled_call_impl(\u001b[38;5;241m*\u001b[39margs, \u001b[38;5;241m*\u001b[39m\u001b[38;5;241m*\u001b[39mkwargs)  \u001b[38;5;66;03m# type: ignore[misc]\u001b[39;00m\n\u001b[0;32m   1510\u001b[0m \u001b[38;5;28;01melse\u001b[39;00m:\n\u001b[1;32m-> 1511\u001b[0m     \u001b[38;5;28;01mreturn\u001b[39;00m \u001b[38;5;28;43mself\u001b[39;49m\u001b[38;5;241;43m.\u001b[39;49m\u001b[43m_call_impl\u001b[49m\u001b[43m(\u001b[49m\u001b[38;5;241;43m*\u001b[39;49m\u001b[43margs\u001b[49m\u001b[43m,\u001b[49m\u001b[43m \u001b[49m\u001b[38;5;241;43m*\u001b[39;49m\u001b[38;5;241;43m*\u001b[39;49m\u001b[43mkwargs\u001b[49m\u001b[43m)\u001b[49m\n",
      "File \u001b[1;32m~\\AppData\\Local\\Packages\\PythonSoftwareFoundation.Python.3.12_qbz5n2kfra8p0\\LocalCache\\local-packages\\Python312\\site-packages\\torch\\nn\\modules\\module.py:1520\u001b[0m, in \u001b[0;36mModule._call_impl\u001b[1;34m(self, *args, **kwargs)\u001b[0m\n\u001b[0;32m   1515\u001b[0m \u001b[38;5;66;03m# If we don't have any hooks, we want to skip the rest of the logic in\u001b[39;00m\n\u001b[0;32m   1516\u001b[0m \u001b[38;5;66;03m# this function, and just call forward.\u001b[39;00m\n\u001b[0;32m   1517\u001b[0m \u001b[38;5;28;01mif\u001b[39;00m \u001b[38;5;129;01mnot\u001b[39;00m (\u001b[38;5;28mself\u001b[39m\u001b[38;5;241m.\u001b[39m_backward_hooks \u001b[38;5;129;01mor\u001b[39;00m \u001b[38;5;28mself\u001b[39m\u001b[38;5;241m.\u001b[39m_backward_pre_hooks \u001b[38;5;129;01mor\u001b[39;00m \u001b[38;5;28mself\u001b[39m\u001b[38;5;241m.\u001b[39m_forward_hooks \u001b[38;5;129;01mor\u001b[39;00m \u001b[38;5;28mself\u001b[39m\u001b[38;5;241m.\u001b[39m_forward_pre_hooks\n\u001b[0;32m   1518\u001b[0m         \u001b[38;5;129;01mor\u001b[39;00m _global_backward_pre_hooks \u001b[38;5;129;01mor\u001b[39;00m _global_backward_hooks\n\u001b[0;32m   1519\u001b[0m         \u001b[38;5;129;01mor\u001b[39;00m _global_forward_hooks \u001b[38;5;129;01mor\u001b[39;00m _global_forward_pre_hooks):\n\u001b[1;32m-> 1520\u001b[0m     \u001b[38;5;28;01mreturn\u001b[39;00m \u001b[43mforward_call\u001b[49m\u001b[43m(\u001b[49m\u001b[38;5;241;43m*\u001b[39;49m\u001b[43margs\u001b[49m\u001b[43m,\u001b[49m\u001b[43m \u001b[49m\u001b[38;5;241;43m*\u001b[39;49m\u001b[38;5;241;43m*\u001b[39;49m\u001b[43mkwargs\u001b[49m\u001b[43m)\u001b[49m\n\u001b[0;32m   1522\u001b[0m \u001b[38;5;28;01mtry\u001b[39;00m:\n\u001b[0;32m   1523\u001b[0m     result \u001b[38;5;241m=\u001b[39m \u001b[38;5;28;01mNone\u001b[39;00m\n",
      "File \u001b[1;32m~\\AppData\\Local\\Packages\\PythonSoftwareFoundation.Python.3.12_qbz5n2kfra8p0\\LocalCache\\local-packages\\Python312\\site-packages\\torch\\nn\\modules\\activation.py:1241\u001b[0m, in \u001b[0;36mMultiheadAttention.forward\u001b[1;34m(self, query, key, value, key_padding_mask, need_weights, attn_mask, average_attn_weights, is_causal)\u001b[0m\n\u001b[0;32m   1227\u001b[0m     attn_output, attn_output_weights \u001b[38;5;241m=\u001b[39m F\u001b[38;5;241m.\u001b[39mmulti_head_attention_forward(\n\u001b[0;32m   1228\u001b[0m         query, key, value, \u001b[38;5;28mself\u001b[39m\u001b[38;5;241m.\u001b[39membed_dim, \u001b[38;5;28mself\u001b[39m\u001b[38;5;241m.\u001b[39mnum_heads,\n\u001b[0;32m   1229\u001b[0m         \u001b[38;5;28mself\u001b[39m\u001b[38;5;241m.\u001b[39min_proj_weight, \u001b[38;5;28mself\u001b[39m\u001b[38;5;241m.\u001b[39min_proj_bias,\n\u001b[1;32m   (...)\u001b[0m\n\u001b[0;32m   1238\u001b[0m         average_attn_weights\u001b[38;5;241m=\u001b[39maverage_attn_weights,\n\u001b[0;32m   1239\u001b[0m         is_causal\u001b[38;5;241m=\u001b[39mis_causal)\n\u001b[0;32m   1240\u001b[0m \u001b[38;5;28;01melse\u001b[39;00m:\n\u001b[1;32m-> 1241\u001b[0m     attn_output, attn_output_weights \u001b[38;5;241m=\u001b[39m \u001b[43mF\u001b[49m\u001b[38;5;241;43m.\u001b[39;49m\u001b[43mmulti_head_attention_forward\u001b[49m\u001b[43m(\u001b[49m\n\u001b[0;32m   1242\u001b[0m \u001b[43m        \u001b[49m\u001b[43mquery\u001b[49m\u001b[43m,\u001b[49m\u001b[43m \u001b[49m\u001b[43mkey\u001b[49m\u001b[43m,\u001b[49m\u001b[43m \u001b[49m\u001b[43mvalue\u001b[49m\u001b[43m,\u001b[49m\u001b[43m \u001b[49m\u001b[38;5;28;43mself\u001b[39;49m\u001b[38;5;241;43m.\u001b[39;49m\u001b[43membed_dim\u001b[49m\u001b[43m,\u001b[49m\u001b[43m \u001b[49m\u001b[38;5;28;43mself\u001b[39;49m\u001b[38;5;241;43m.\u001b[39;49m\u001b[43mnum_heads\u001b[49m\u001b[43m,\u001b[49m\n\u001b[0;32m   1243\u001b[0m \u001b[43m        \u001b[49m\u001b[38;5;28;43mself\u001b[39;49m\u001b[38;5;241;43m.\u001b[39;49m\u001b[43min_proj_weight\u001b[49m\u001b[43m,\u001b[49m\u001b[43m \u001b[49m\u001b[38;5;28;43mself\u001b[39;49m\u001b[38;5;241;43m.\u001b[39;49m\u001b[43min_proj_bias\u001b[49m\u001b[43m,\u001b[49m\n\u001b[0;32m   1244\u001b[0m \u001b[43m        \u001b[49m\u001b[38;5;28;43mself\u001b[39;49m\u001b[38;5;241;43m.\u001b[39;49m\u001b[43mbias_k\u001b[49m\u001b[43m,\u001b[49m\u001b[43m \u001b[49m\u001b[38;5;28;43mself\u001b[39;49m\u001b[38;5;241;43m.\u001b[39;49m\u001b[43mbias_v\u001b[49m\u001b[43m,\u001b[49m\u001b[43m \u001b[49m\u001b[38;5;28;43mself\u001b[39;49m\u001b[38;5;241;43m.\u001b[39;49m\u001b[43madd_zero_attn\u001b[49m\u001b[43m,\u001b[49m\n\u001b[0;32m   1245\u001b[0m \u001b[43m        \u001b[49m\u001b[38;5;28;43mself\u001b[39;49m\u001b[38;5;241;43m.\u001b[39;49m\u001b[43mdropout\u001b[49m\u001b[43m,\u001b[49m\u001b[43m \u001b[49m\u001b[38;5;28;43mself\u001b[39;49m\u001b[38;5;241;43m.\u001b[39;49m\u001b[43mout_proj\u001b[49m\u001b[38;5;241;43m.\u001b[39;49m\u001b[43mweight\u001b[49m\u001b[43m,\u001b[49m\u001b[43m \u001b[49m\u001b[38;5;28;43mself\u001b[39;49m\u001b[38;5;241;43m.\u001b[39;49m\u001b[43mout_proj\u001b[49m\u001b[38;5;241;43m.\u001b[39;49m\u001b[43mbias\u001b[49m\u001b[43m,\u001b[49m\n\u001b[0;32m   1246\u001b[0m \u001b[43m        \u001b[49m\u001b[43mtraining\u001b[49m\u001b[38;5;241;43m=\u001b[39;49m\u001b[38;5;28;43mself\u001b[39;49m\u001b[38;5;241;43m.\u001b[39;49m\u001b[43mtraining\u001b[49m\u001b[43m,\u001b[49m\n\u001b[0;32m   1247\u001b[0m \u001b[43m        \u001b[49m\u001b[43mkey_padding_mask\u001b[49m\u001b[38;5;241;43m=\u001b[39;49m\u001b[43mkey_padding_mask\u001b[49m\u001b[43m,\u001b[49m\n\u001b[0;32m   1248\u001b[0m \u001b[43m        \u001b[49m\u001b[43mneed_weights\u001b[49m\u001b[38;5;241;43m=\u001b[39;49m\u001b[43mneed_weights\u001b[49m\u001b[43m,\u001b[49m\n\u001b[0;32m   1249\u001b[0m \u001b[43m        \u001b[49m\u001b[43mattn_mask\u001b[49m\u001b[38;5;241;43m=\u001b[39;49m\u001b[43mattn_mask\u001b[49m\u001b[43m,\u001b[49m\n\u001b[0;32m   1250\u001b[0m \u001b[43m        \u001b[49m\u001b[43maverage_attn_weights\u001b[49m\u001b[38;5;241;43m=\u001b[39;49m\u001b[43maverage_attn_weights\u001b[49m\u001b[43m,\u001b[49m\n\u001b[0;32m   1251\u001b[0m \u001b[43m        \u001b[49m\u001b[43mis_causal\u001b[49m\u001b[38;5;241;43m=\u001b[39;49m\u001b[43mis_causal\u001b[49m\u001b[43m)\u001b[49m\n\u001b[0;32m   1252\u001b[0m \u001b[38;5;28;01mif\u001b[39;00m \u001b[38;5;28mself\u001b[39m\u001b[38;5;241m.\u001b[39mbatch_first \u001b[38;5;129;01mand\u001b[39;00m is_batched:\n\u001b[0;32m   1253\u001b[0m     \u001b[38;5;28;01mreturn\u001b[39;00m attn_output\u001b[38;5;241m.\u001b[39mtranspose(\u001b[38;5;241m1\u001b[39m, \u001b[38;5;241m0\u001b[39m), attn_output_weights\n",
      "File \u001b[1;32m~\\AppData\\Local\\Packages\\PythonSoftwareFoundation.Python.3.12_qbz5n2kfra8p0\\LocalCache\\local-packages\\Python312\\site-packages\\torch\\nn\\functional.py:5382\u001b[0m, in \u001b[0;36mmulti_head_attention_forward\u001b[1;34m(query, key, value, embed_dim_to_check, num_heads, in_proj_weight, in_proj_bias, bias_k, bias_v, add_zero_attn, dropout_p, out_proj_weight, out_proj_bias, training, key_padding_mask, need_weights, attn_mask, use_separate_proj_weight, q_proj_weight, k_proj_weight, v_proj_weight, static_k, static_v, average_attn_weights, is_causal)\u001b[0m\n\u001b[0;32m   5380\u001b[0m q \u001b[38;5;241m=\u001b[39m q\u001b[38;5;241m.\u001b[39mview(tgt_len, bsz \u001b[38;5;241m*\u001b[39m num_heads, head_dim)\u001b[38;5;241m.\u001b[39mtranspose(\u001b[38;5;241m0\u001b[39m, \u001b[38;5;241m1\u001b[39m)\n\u001b[0;32m   5381\u001b[0m \u001b[38;5;28;01mif\u001b[39;00m static_k \u001b[38;5;129;01mis\u001b[39;00m \u001b[38;5;28;01mNone\u001b[39;00m:\n\u001b[1;32m-> 5382\u001b[0m     k \u001b[38;5;241m=\u001b[39m \u001b[43mk\u001b[49m\u001b[38;5;241;43m.\u001b[39;49m\u001b[43mview\u001b[49m\u001b[43m(\u001b[49m\u001b[43mk\u001b[49m\u001b[38;5;241;43m.\u001b[39;49m\u001b[43mshape\u001b[49m\u001b[43m[\u001b[49m\u001b[38;5;241;43m0\u001b[39;49m\u001b[43m]\u001b[49m\u001b[43m,\u001b[49m\u001b[43m \u001b[49m\u001b[43mbsz\u001b[49m\u001b[43m \u001b[49m\u001b[38;5;241;43m*\u001b[39;49m\u001b[43m \u001b[49m\u001b[43mnum_heads\u001b[49m\u001b[43m,\u001b[49m\u001b[43m \u001b[49m\u001b[43mhead_dim\u001b[49m\u001b[43m)\u001b[49m\u001b[38;5;241m.\u001b[39mtranspose(\u001b[38;5;241m0\u001b[39m, \u001b[38;5;241m1\u001b[39m)\n\u001b[0;32m   5383\u001b[0m \u001b[38;5;28;01melse\u001b[39;00m:\n\u001b[0;32m   5384\u001b[0m     \u001b[38;5;66;03m# TODO finish disentangling control flow so we don't do in-projections when statics are passed\u001b[39;00m\n\u001b[0;32m   5385\u001b[0m     \u001b[38;5;28;01massert\u001b[39;00m static_k\u001b[38;5;241m.\u001b[39msize(\u001b[38;5;241m0\u001b[39m) \u001b[38;5;241m==\u001b[39m bsz \u001b[38;5;241m*\u001b[39m num_heads, \\\n\u001b[0;32m   5386\u001b[0m         \u001b[38;5;124mf\u001b[39m\u001b[38;5;124m\"\u001b[39m\u001b[38;5;124mexpecting static_k.size(0) of \u001b[39m\u001b[38;5;132;01m{\u001b[39;00mbsz\u001b[38;5;250m \u001b[39m\u001b[38;5;241m*\u001b[39m\u001b[38;5;250m \u001b[39mnum_heads\u001b[38;5;132;01m}\u001b[39;00m\u001b[38;5;124m, but got \u001b[39m\u001b[38;5;132;01m{\u001b[39;00mstatic_k\u001b[38;5;241m.\u001b[39msize(\u001b[38;5;241m0\u001b[39m)\u001b[38;5;132;01m}\u001b[39;00m\u001b[38;5;124m\"\u001b[39m\n",
      "\u001b[1;31mRuntimeError\u001b[0m: shape '[1, 8, 96]' is invalid for input of size 38400"
     ]
    }
   ],
   "source": [
    "predict_response(\"no problem. so how have you been?\")"
   ]
  }
 ],
 "metadata": {
  "kernelspec": {
   "display_name": "Python 3",
   "language": "python",
   "name": "python3"
  },
  "language_info": {
   "codemirror_mode": {
    "name": "ipython",
    "version": 3
   },
   "file_extension": ".py",
   "mimetype": "text/x-python",
   "name": "python",
   "nbconvert_exporter": "python",
   "pygments_lexer": "ipython3",
   "version": "3.12.8"
  }
 },
 "nbformat": 4,
 "nbformat_minor": 2
}
